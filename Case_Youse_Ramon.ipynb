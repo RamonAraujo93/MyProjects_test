{
 "cells": [
  {
   "cell_type": "code",
   "execution_count": 1,
   "metadata": {},
   "outputs": [],
   "source": [
    "#Importing the libraries\n",
    "import pandas as pd\n",
    "import numpy as np\n",
    "import plotly \n",
    "import plotly.express as px \n",
    "from matplotlib import pyplot as plt \n",
    "import requests as r\n",
    "import geopy\n",
    "from geopy.geocoders import Nominatim"
   ]
  },
  {
   "cell_type": "code",
   "execution_count": 64,
   "metadata": {},
   "outputs": [],
   "source": [
    "#Load dataset and determining the DataFrame as \"df\"\n",
    "df = pd.read_excel (r'C:\\Users\\ramon\\OneDrive\\Área de Trabalho\\Dados-Geolocalizacao.xlsx', sheet_name='Sheet1')"
   ]
  },
  {
   "cell_type": "code",
   "execution_count": 65,
   "metadata": {},
   "outputs": [
    {
     "data": {
      "text/html": [
       "<div>\n",
       "<style scoped>\n",
       "    .dataframe tbody tr th:only-of-type {\n",
       "        vertical-align: middle;\n",
       "    }\n",
       "\n",
       "    .dataframe tbody tr th {\n",
       "        vertical-align: top;\n",
       "    }\n",
       "\n",
       "    .dataframe thead th {\n",
       "        text-align: right;\n",
       "    }\n",
       "</style>\n",
       "<table border=\"1\" class=\"dataframe\">\n",
       "  <thead>\n",
       "    <tr style=\"text-align: right;\">\n",
       "      <th></th>\n",
       "      <th>Bateria violada?</th>\n",
       "      <th>Chassi</th>\n",
       "      <th>Carro ligado?</th>\n",
       "      <th>Data de ocorrencia</th>\n",
       "      <th>Data de recebimento</th>\n",
       "      <th>Latitude</th>\n",
       "      <th>Longitude</th>\n",
       "      <th>Modo</th>\n",
       "      <th>Tensão</th>\n",
       "    </tr>\n",
       "  </thead>\n",
       "  <tbody>\n",
       "    <tr>\n",
       "      <th>0</th>\n",
       "      <td>0.0</td>\n",
       "      <td>#0&amp;CN$#P@0RT253#9</td>\n",
       "      <td>0.0</td>\n",
       "      <td>2020-08-27 05:38:28</td>\n",
       "      <td>2020-08-27 05:38:33</td>\n",
       "      <td>-29983650.0</td>\n",
       "      <td>-50973330.0</td>\n",
       "      <td>RF</td>\n",
       "      <td>14.0</td>\n",
       "    </tr>\n",
       "    <tr>\n",
       "      <th>1</th>\n",
       "      <td>0.0</td>\n",
       "      <td>#0&amp;CN$#P@0RT253#9</td>\n",
       "      <td>1.0</td>\n",
       "      <td>2020-08-27 05:39:08</td>\n",
       "      <td>2020-08-27 05:39:10</td>\n",
       "      <td>-29983640.0</td>\n",
       "      <td>-51132420.0</td>\n",
       "      <td>RF</td>\n",
       "      <td>13.0</td>\n",
       "    </tr>\n",
       "    <tr>\n",
       "      <th>2</th>\n",
       "      <td>0.0</td>\n",
       "      <td>#0&amp;CN$#P@0RT253#9</td>\n",
       "      <td>1.0</td>\n",
       "      <td>2020-08-27 09:52:32</td>\n",
       "      <td>2020-08-27 09:52:34</td>\n",
       "      <td>-29997250.0</td>\n",
       "      <td>-51135620.0</td>\n",
       "      <td>RF</td>\n",
       "      <td>12.0</td>\n",
       "    </tr>\n",
       "    <tr>\n",
       "      <th>3</th>\n",
       "      <td>0.0</td>\n",
       "      <td>#0&amp;CN$#P@0RT253#9</td>\n",
       "      <td>1.0</td>\n",
       "      <td>2020-08-27 09:52:47</td>\n",
       "      <td>2020-08-27 09:53:43</td>\n",
       "      <td>-29998200.0</td>\n",
       "      <td>-51136080.0</td>\n",
       "      <td>RF</td>\n",
       "      <td>12.0</td>\n",
       "    </tr>\n",
       "    <tr>\n",
       "      <th>4</th>\n",
       "      <td>0.0</td>\n",
       "      <td>#0&amp;CN$#P@0RT253#9</td>\n",
       "      <td>1.0</td>\n",
       "      <td>2020-08-27 09:53:34</td>\n",
       "      <td>2020-08-27 09:55:10</td>\n",
       "      <td>-29997910.0</td>\n",
       "      <td>-51139060.0</td>\n",
       "      <td>RF</td>\n",
       "      <td>12.0</td>\n",
       "    </tr>\n",
       "  </tbody>\n",
       "</table>\n",
       "</div>"
      ],
      "text/plain": [
       "   Bateria violada?             Chassi  Carro ligado?  Data de ocorrencia  \\\n",
       "0               0.0  #0&CN$#P@0RT253#9            0.0 2020-08-27 05:38:28   \n",
       "1               0.0  #0&CN$#P@0RT253#9            1.0 2020-08-27 05:39:08   \n",
       "2               0.0  #0&CN$#P@0RT253#9            1.0 2020-08-27 09:52:32   \n",
       "3               0.0  #0&CN$#P@0RT253#9            1.0 2020-08-27 09:52:47   \n",
       "4               0.0  #0&CN$#P@0RT253#9            1.0 2020-08-27 09:53:34   \n",
       "\n",
       "  Data de recebimento    Latitude   Longitude Modo  Tensão  \n",
       "0 2020-08-27 05:38:33 -29983650.0 -50973330.0   RF    14.0  \n",
       "1 2020-08-27 05:39:10 -29983640.0 -51132420.0   RF    13.0  \n",
       "2 2020-08-27 09:52:34 -29997250.0 -51135620.0   RF    12.0  \n",
       "3 2020-08-27 09:53:43 -29998200.0 -51136080.0   RF    12.0  \n",
       "4 2020-08-27 09:55:10 -29997910.0 -51139060.0   RF    12.0  "
      ]
     },
     "execution_count": 65,
     "metadata": {},
     "output_type": "execute_result"
    }
   ],
   "source": [
    "#Look DataFrame\n",
    "df.head()"
   ]
  },
  {
   "cell_type": "code",
   "execution_count": 68,
   "metadata": {},
   "outputs": [
    {
     "data": {
      "text/plain": [
       "Bateria violada?        1\n",
       "Chassi                  1\n",
       "Carro ligado?           1\n",
       "Data de ocorrencia      1\n",
       "Data de recebimento     1\n",
       "Latitude                1\n",
       "Longitude               1\n",
       "Modo                    1\n",
       "Tensão                 48\n",
       "dtype: int64"
      ]
     },
     "execution_count": 68,
     "metadata": {},
     "output_type": "execute_result"
    }
   ],
   "source": [
    "#Null Values Analysis\n",
    "df.isnull().sum()"
   ]
  },
  {
   "cell_type": "code",
   "execution_count": 69,
   "metadata": {},
   "outputs": [
    {
     "data": {
      "text/plain": [
       "Int64Index([19519], dtype='int64')"
      ]
     },
     "execution_count": 69,
     "metadata": {},
     "output_type": "execute_result"
    }
   ],
   "source": [
    "#Looking for a line without records\n",
    "df_index = df[df['Bateria violada?'].isnull()].index\n",
    "df_index"
   ]
  },
  {
   "cell_type": "code",
   "execution_count": 70,
   "metadata": {},
   "outputs": [],
   "source": [
    "#Excluding a line without records\n",
    "df.drop(19519, axis=0, inplace=True)"
   ]
  },
  {
   "cell_type": "code",
   "execution_count": 71,
   "metadata": {},
   "outputs": [
    {
     "data": {
      "text/plain": [
       "Bateria violada?        0\n",
       "Chassi                  0\n",
       "Carro ligado?           0\n",
       "Data de ocorrencia      0\n",
       "Data de recebimento     0\n",
       "Latitude                0\n",
       "Longitude               0\n",
       "Modo                    0\n",
       "Tensão                 47\n",
       "dtype: int64"
      ]
     },
     "execution_count": 71,
     "metadata": {},
     "output_type": "execute_result"
    }
   ],
   "source": [
    "#Null Values Analysis\n",
    "df.isnull().sum()"
   ]
  },
  {
   "cell_type": "code",
   "execution_count": 72,
   "metadata": {},
   "outputs": [
    {
     "data": {
      "text/plain": [
       "18.944401376786878"
      ]
     },
     "execution_count": 72,
     "metadata": {},
     "output_type": "execute_result"
    }
   ],
   "source": [
    "#Look \"Tensão\" column mean\n",
    "df['Tensão'].mean()"
   ]
  },
  {
   "cell_type": "code",
   "execution_count": 74,
   "metadata": {},
   "outputs": [],
   "source": [
    "#Fill the \"Tensão\" null value with the \"Tensão\" column mean\n",
    "df = df.fillna(df['Tensão'].mean())"
   ]
  },
  {
   "cell_type": "code",
   "execution_count": 75,
   "metadata": {},
   "outputs": [
    {
     "data": {
      "text/plain": [
       "Bateria violada?       0\n",
       "Chassi                 0\n",
       "Carro ligado?          0\n",
       "Data de ocorrencia     0\n",
       "Data de recebimento    0\n",
       "Latitude               0\n",
       "Longitude              0\n",
       "Modo                   0\n",
       "Tensão                 0\n",
       "dtype: int64"
      ]
     },
     "execution_count": 75,
     "metadata": {},
     "output_type": "execute_result"
    }
   ],
   "source": [
    "#Null Values Analysis\n",
    "df.isnull().sum()"
   ]
  },
  {
   "cell_type": "code",
   "execution_count": 66,
   "metadata": {},
   "outputs": [],
   "source": [
    "#LAT and LONG Treatment Columns\n",
    "df['Latitude'] = df['Latitude']/1000000\n",
    "df['Longitude'] = df['Longitude']/1000000"
   ]
  },
  {
   "cell_type": "code",
   "execution_count": 67,
   "metadata": {},
   "outputs": [
    {
     "data": {
      "text/html": [
       "<div>\n",
       "<style scoped>\n",
       "    .dataframe tbody tr th:only-of-type {\n",
       "        vertical-align: middle;\n",
       "    }\n",
       "\n",
       "    .dataframe tbody tr th {\n",
       "        vertical-align: top;\n",
       "    }\n",
       "\n",
       "    .dataframe thead th {\n",
       "        text-align: right;\n",
       "    }\n",
       "</style>\n",
       "<table border=\"1\" class=\"dataframe\">\n",
       "  <thead>\n",
       "    <tr style=\"text-align: right;\">\n",
       "      <th></th>\n",
       "      <th>Bateria violada?</th>\n",
       "      <th>Chassi</th>\n",
       "      <th>Carro ligado?</th>\n",
       "      <th>Data de ocorrencia</th>\n",
       "      <th>Data de recebimento</th>\n",
       "      <th>Latitude</th>\n",
       "      <th>Longitude</th>\n",
       "      <th>Modo</th>\n",
       "      <th>Tensão</th>\n",
       "    </tr>\n",
       "  </thead>\n",
       "  <tbody>\n",
       "    <tr>\n",
       "      <th>0</th>\n",
       "      <td>0.0</td>\n",
       "      <td>#0&amp;CN$#P@0RT253#9</td>\n",
       "      <td>0.0</td>\n",
       "      <td>2020-08-27 05:38:28</td>\n",
       "      <td>2020-08-27 05:38:33</td>\n",
       "      <td>-29.98365</td>\n",
       "      <td>-50.97333</td>\n",
       "      <td>RF</td>\n",
       "      <td>14.0</td>\n",
       "    </tr>\n",
       "    <tr>\n",
       "      <th>1</th>\n",
       "      <td>0.0</td>\n",
       "      <td>#0&amp;CN$#P@0RT253#9</td>\n",
       "      <td>1.0</td>\n",
       "      <td>2020-08-27 05:39:08</td>\n",
       "      <td>2020-08-27 05:39:10</td>\n",
       "      <td>-29.98364</td>\n",
       "      <td>-51.13242</td>\n",
       "      <td>RF</td>\n",
       "      <td>13.0</td>\n",
       "    </tr>\n",
       "    <tr>\n",
       "      <th>2</th>\n",
       "      <td>0.0</td>\n",
       "      <td>#0&amp;CN$#P@0RT253#9</td>\n",
       "      <td>1.0</td>\n",
       "      <td>2020-08-27 09:52:32</td>\n",
       "      <td>2020-08-27 09:52:34</td>\n",
       "      <td>-29.99725</td>\n",
       "      <td>-51.13562</td>\n",
       "      <td>RF</td>\n",
       "      <td>12.0</td>\n",
       "    </tr>\n",
       "    <tr>\n",
       "      <th>3</th>\n",
       "      <td>0.0</td>\n",
       "      <td>#0&amp;CN$#P@0RT253#9</td>\n",
       "      <td>1.0</td>\n",
       "      <td>2020-08-27 09:52:47</td>\n",
       "      <td>2020-08-27 09:53:43</td>\n",
       "      <td>-29.99820</td>\n",
       "      <td>-51.13608</td>\n",
       "      <td>RF</td>\n",
       "      <td>12.0</td>\n",
       "    </tr>\n",
       "    <tr>\n",
       "      <th>4</th>\n",
       "      <td>0.0</td>\n",
       "      <td>#0&amp;CN$#P@0RT253#9</td>\n",
       "      <td>1.0</td>\n",
       "      <td>2020-08-27 09:53:34</td>\n",
       "      <td>2020-08-27 09:55:10</td>\n",
       "      <td>-29.99791</td>\n",
       "      <td>-51.13906</td>\n",
       "      <td>RF</td>\n",
       "      <td>12.0</td>\n",
       "    </tr>\n",
       "  </tbody>\n",
       "</table>\n",
       "</div>"
      ],
      "text/plain": [
       "   Bateria violada?             Chassi  Carro ligado?  Data de ocorrencia  \\\n",
       "0               0.0  #0&CN$#P@0RT253#9            0.0 2020-08-27 05:38:28   \n",
       "1               0.0  #0&CN$#P@0RT253#9            1.0 2020-08-27 05:39:08   \n",
       "2               0.0  #0&CN$#P@0RT253#9            1.0 2020-08-27 09:52:32   \n",
       "3               0.0  #0&CN$#P@0RT253#9            1.0 2020-08-27 09:52:47   \n",
       "4               0.0  #0&CN$#P@0RT253#9            1.0 2020-08-27 09:53:34   \n",
       "\n",
       "  Data de recebimento  Latitude  Longitude Modo  Tensão  \n",
       "0 2020-08-27 05:38:33 -29.98365  -50.97333   RF    14.0  \n",
       "1 2020-08-27 05:39:10 -29.98364  -51.13242   RF    13.0  \n",
       "2 2020-08-27 09:52:34 -29.99725  -51.13562   RF    12.0  \n",
       "3 2020-08-27 09:53:43 -29.99820  -51.13608   RF    12.0  \n",
       "4 2020-08-27 09:55:10 -29.99791  -51.13906   RF    12.0  "
      ]
     },
     "execution_count": 67,
     "metadata": {},
     "output_type": "execute_result"
    }
   ],
   "source": [
    "df.head()"
   ]
  },
  {
   "cell_type": "code",
   "execution_count": 76,
   "metadata": {},
   "outputs": [
    {
     "data": {
      "text/plain": [
       "Bateria violada?              float64\n",
       "Chassi                         object\n",
       "Carro ligado?                 float64\n",
       "Data de ocorrencia     datetime64[ns]\n",
       "Data de recebimento    datetime64[ns]\n",
       "Latitude                      float64\n",
       "Longitude                     float64\n",
       "Modo                           object\n",
       "Tensão                        float64\n",
       "dtype: object"
      ]
     },
     "execution_count": 76,
     "metadata": {},
     "output_type": "execute_result"
    }
   ],
   "source": [
    "#Look column data types\n",
    "df.dtypes"
   ]
  },
  {
   "cell_type": "code",
   "execution_count": 77,
   "metadata": {},
   "outputs": [],
   "source": [
    "#Data Types Treatment Columns\n",
    "df['Tensão']           = df['Tensão'].astype('int64')\n",
    "df['Bateria violada?'] = df['Bateria violada?'].astype('int64')\n",
    "df['Carro ligado?']   = df['Carro ligado?'].astype('int64')"
   ]
  },
  {
   "cell_type": "code",
   "execution_count": 78,
   "metadata": {},
   "outputs": [
    {
     "data": {
      "text/plain": [
       "Bateria violada?                int64\n",
       "Chassi                         object\n",
       "Carro ligado?                   int64\n",
       "Data de ocorrencia     datetime64[ns]\n",
       "Data de recebimento    datetime64[ns]\n",
       "Latitude                      float64\n",
       "Longitude                     float64\n",
       "Modo                           object\n",
       "Tensão                          int64\n",
       "dtype: object"
      ]
     },
     "execution_count": 78,
     "metadata": {},
     "output_type": "execute_result"
    }
   ],
   "source": [
    "#Look column output from Data Types Treatment Columns\n",
    "df.dtypes"
   ]
  },
  {
   "cell_type": "code",
   "execution_count": 80,
   "metadata": {},
   "outputs": [
    {
     "data": {
      "text/html": [
       "<div>\n",
       "<style scoped>\n",
       "    .dataframe tbody tr th:only-of-type {\n",
       "        vertical-align: middle;\n",
       "    }\n",
       "\n",
       "    .dataframe tbody tr th {\n",
       "        vertical-align: top;\n",
       "    }\n",
       "\n",
       "    .dataframe thead th {\n",
       "        text-align: right;\n",
       "    }\n",
       "</style>\n",
       "<table border=\"1\" class=\"dataframe\">\n",
       "  <thead>\n",
       "    <tr style=\"text-align: right;\">\n",
       "      <th></th>\n",
       "      <th>Bateria violada?</th>\n",
       "      <th>Carro ligado?</th>\n",
       "      <th>Latitude</th>\n",
       "      <th>Longitude</th>\n",
       "      <th>Tensão</th>\n",
       "    </tr>\n",
       "  </thead>\n",
       "  <tbody>\n",
       "    <tr>\n",
       "      <th>count</th>\n",
       "      <td>32296.000000</td>\n",
       "      <td>32296.000000</td>\n",
       "      <td>32296.000000</td>\n",
       "      <td>32296.000000</td>\n",
       "      <td>32296.000000</td>\n",
       "    </tr>\n",
       "    <tr>\n",
       "      <th>mean</th>\n",
       "      <td>0.000712</td>\n",
       "      <td>0.750619</td>\n",
       "      <td>-22.786846</td>\n",
       "      <td>-46.626707</td>\n",
       "      <td>18.943027</td>\n",
       "    </tr>\n",
       "    <tr>\n",
       "      <th>std</th>\n",
       "      <td>0.026677</td>\n",
       "      <td>0.432661</td>\n",
       "      <td>4.519762</td>\n",
       "      <td>3.137850</td>\n",
       "      <td>23.028041</td>\n",
       "    </tr>\n",
       "    <tr>\n",
       "      <th>min</th>\n",
       "      <td>0.000000</td>\n",
       "      <td>0.000000</td>\n",
       "      <td>-41.025640</td>\n",
       "      <td>-56.089610</td>\n",
       "      <td>0.000000</td>\n",
       "    </tr>\n",
       "    <tr>\n",
       "      <th>25%</th>\n",
       "      <td>0.000000</td>\n",
       "      <td>1.000000</td>\n",
       "      <td>-23.668630</td>\n",
       "      <td>-48.007224</td>\n",
       "      <td>12.000000</td>\n",
       "    </tr>\n",
       "    <tr>\n",
       "      <th>50%</th>\n",
       "      <td>0.000000</td>\n",
       "      <td>1.000000</td>\n",
       "      <td>-23.548502</td>\n",
       "      <td>-46.577610</td>\n",
       "      <td>13.000000</td>\n",
       "    </tr>\n",
       "    <tr>\n",
       "      <th>75%</th>\n",
       "      <td>0.000000</td>\n",
       "      <td>1.000000</td>\n",
       "      <td>-22.849027</td>\n",
       "      <td>-46.414920</td>\n",
       "      <td>14.000000</td>\n",
       "    </tr>\n",
       "    <tr>\n",
       "      <th>max</th>\n",
       "      <td>1.000000</td>\n",
       "      <td>1.000000</td>\n",
       "      <td>-3.785750</td>\n",
       "      <td>-34.822450</td>\n",
       "      <td>100.000000</td>\n",
       "    </tr>\n",
       "  </tbody>\n",
       "</table>\n",
       "</div>"
      ],
      "text/plain": [
       "       Bateria violada?  Carro ligado?      Latitude     Longitude  \\\n",
       "count      32296.000000   32296.000000  32296.000000  32296.000000   \n",
       "mean           0.000712       0.750619    -22.786846    -46.626707   \n",
       "std            0.026677       0.432661      4.519762      3.137850   \n",
       "min            0.000000       0.000000    -41.025640    -56.089610   \n",
       "25%            0.000000       1.000000    -23.668630    -48.007224   \n",
       "50%            0.000000       1.000000    -23.548502    -46.577610   \n",
       "75%            0.000000       1.000000    -22.849027    -46.414920   \n",
       "max            1.000000       1.000000     -3.785750    -34.822450   \n",
       "\n",
       "             Tensão  \n",
       "count  32296.000000  \n",
       "mean      18.943027  \n",
       "std       23.028041  \n",
       "min        0.000000  \n",
       "25%       12.000000  \n",
       "50%       13.000000  \n",
       "75%       14.000000  \n",
       "max      100.000000  "
      ]
     },
     "execution_count": 80,
     "metadata": {},
     "output_type": "execute_result"
    }
   ],
   "source": [
    "#Descriptive Statistics\n",
    "df.describe()"
   ]
  },
  {
   "cell_type": "code",
   "execution_count": 81,
   "metadata": {},
   "outputs": [
    {
     "data": {
      "text/plain": [
       "<AxesSubplot:>"
      ]
     },
     "execution_count": 81,
     "metadata": {},
     "output_type": "execute_result"
    },
    {
     "data": {
      "image/png": "[encoded data removed]",
      "text/plain": [
       "<Figure size 432x288 with 1 Axes>"
      ]
     },
     "metadata": {
      "needs_background": "light"
     },
     "output_type": "display_data"
    }
   ],
   "source": [
    "#Descriptive Statistics | Boxplot\n",
    "df.boxplot()"
   ]
  },
  {
   "cell_type": "code",
   "execution_count": 82,
   "metadata": {},
   "outputs": [
    {
     "data": {
      "text/plain": [
       "Bateria violada?           2\n",
       "Chassi                   302\n",
       "Carro ligado?              2\n",
       "Data de ocorrencia     24917\n",
       "Data de recebimento    25433\n",
       "Latitude               13868\n",
       "Longitude              14220\n",
       "Modo                       2\n",
       "Tensão                    23\n",
       "dtype: int64"
      ]
     },
     "execution_count": 82,
     "metadata": {},
     "output_type": "execute_result"
    }
   ],
   "source": [
    "#Look Unique Values\n",
    "df.nunique()"
   ]
  },
  {
   "cell_type": "code",
   "execution_count": 83,
   "metadata": {},
   "outputs": [
    {
     "data": {
      "text/plain": [
       "(32296, 9)"
      ]
     },
     "execution_count": 83,
     "metadata": {},
     "output_type": "execute_result"
    }
   ],
   "source": [
    "#Look Size Data Frame\n",
    "df.shape"
   ]
  },
  {
   "cell_type": "code",
   "execution_count": 85,
   "metadata": {},
   "outputs": [
    {
     "data": {
      "text/plain": [
       "Tensão\n",
       "0       1314\n",
       "2         11\n",
       "3          2\n",
       "4         40\n",
       "5          4\n",
       "7          1\n",
       "8          3\n",
       "9          1\n",
       "10         7\n",
       "11       113\n",
       "12      9328\n",
       "13     10056\n",
       "14      8592\n",
       "15       160\n",
       "16         1\n",
       "18        49\n",
       "25        43\n",
       "26        17\n",
       "27         5\n",
       "28       157\n",
       "29        17\n",
       "32         1\n",
       "100     2374\n",
       "dtype: int64"
      ]
     },
     "execution_count": 85,
     "metadata": {},
     "output_type": "execute_result"
    }
   ],
   "source": [
    "#Descriptive Statistics of Tensão field\n",
    "df.groupby(['Tensão']).size()"
   ]
  },
  {
   "cell_type": "code",
   "execution_count": 86,
   "metadata": {},
   "outputs": [
    {
     "data": {
      "text/plain": [
       "Chassi\n",
       "#0D$CRYUWD&@2323T    1403\n",
       "#0&SUT19@YRT8#2T2    1252\n",
       "#0&CN$#X@SR9$@$95     926\n",
       "#0D$CRYUYE&@$T$#2     921\n",
       "#0P239TT@E8@3T5#@     682\n",
       "                     ... \n",
       "#0&SN81S@HRT@21T8       1\n",
       "#0D$DRYUU&&@T@355       1\n",
       "#0D2CN8ST0&@9@892       1\n",
       "#0&SN81S@URTT@19T       1\n",
       "#0&CS$#X@CRT253T1       1\n",
       "Length: 302, dtype: int64"
      ]
     },
     "execution_count": 86,
     "metadata": {},
     "output_type": "execute_result"
    }
   ],
   "source": [
    "#Descriptive Statistics of Chassi field\n",
    "df.groupby(['Chassi']).size().sort_values(ascending=False)"
   ]
  },
  {
   "cell_type": "code",
   "execution_count": 97,
   "metadata": {},
   "outputs": [],
   "source": [
    "#Create a new columns\n",
    "df['city'] = 'NA'\n",
    "df['country'] = 'NA'\n",
    "df['postcode'] = 'NA'\n",
    "df['state'] = 'NA'"
   ]
  },
  {
   "cell_type": "code",
   "execution_count": 106,
   "metadata": {},
   "outputs": [
    {
     "data": {
      "text/plain": [
       "Index(['Bateria violada?', 'Chassi', 'Carro ligado?', 'Data de ocorrencia',\n",
       "       'Data de recebimento', 'Latitude', 'Longitude', 'Modo', 'Tensão',\n",
       "       'city', 'country', 'postcode', 'state'],\n",
       "      dtype='object')"
      ]
     },
     "execution_count": 106,
     "metadata": {},
     "output_type": "execute_result"
    }
   ],
   "source": [
    "#Look the columns and output from new created columns\n",
    "df.columns"
   ]
  },
  {
   "cell_type": "code",
   "execution_count": null,
   "metadata": {},
   "outputs": [],
   "source": [
    "#Populate the new fields with geolocation data via API \n",
    "geolocator = Nominatim( user_agent='geoApiCase' )\n",
    "\n",
    "for i in range ( len (df)):\n",
    "  #make query\n",
    "    query = str( df.loc[i,'Latitude'] ) + ',' + str( df.loc[i,'Longitude'] )\n",
    "  #API request\n",
    "    response = geolocator.reverse(query)\n",
    " #Populate Data\n",
    "    if 'city' in response.raw['address']: \n",
    "      df.loc[i,'city']          = response.raw['address']['city']\n",
    "    elif 'country' in response.raw['address']:\n",
    "      df.loc[i,'country']  = response.raw['address']['country']\n",
    "    elif 'postcode' in response.raw['address']:\n",
    "      df.loc[i,'postcode'] = response.raw['address']['postcode']\n",
    "    elif 'state' in response.raw['address']:\n",
    "      df.loc[i,'state']         = response.raw['address']['state']\n",
    "    else: \"nao encontrado\""
   ]
  },
  {
   "cell_type": "code",
   "execution_count": 16,
   "metadata": {},
   "outputs": [
    {
     "data": {
      "text/html": [
       "<div>\n",
       "<style scoped>\n",
       "    .dataframe tbody tr th:only-of-type {\n",
       "        vertical-align: middle;\n",
       "    }\n",
       "\n",
       "    .dataframe tbody tr th {\n",
       "        vertical-align: top;\n",
       "    }\n",
       "\n",
       "    .dataframe thead th {\n",
       "        text-align: right;\n",
       "    }\n",
       "</style>\n",
       "<table border=\"1\" class=\"dataframe\">\n",
       "  <thead>\n",
       "    <tr style=\"text-align: right;\">\n",
       "      <th></th>\n",
       "      <th>Bateria violada?</th>\n",
       "      <th>Chassi</th>\n",
       "      <th>Carro ligado?</th>\n",
       "      <th>Data de ocorrencia</th>\n",
       "      <th>Data de recebimento</th>\n",
       "      <th>Latitude</th>\n",
       "      <th>Longitude</th>\n",
       "      <th>Modo</th>\n",
       "      <th>Tensão</th>\n",
       "      <th>city</th>\n",
       "      <th>country</th>\n",
       "      <th>postcode</th>\n",
       "      <th>state</th>\n",
       "    </tr>\n",
       "  </thead>\n",
       "  <tbody>\n",
       "    <tr>\n",
       "      <th>0</th>\n",
       "      <td>0</td>\n",
       "      <td>#0&amp;CN$#P@0RT253#9</td>\n",
       "      <td>0</td>\n",
       "      <td>2020-08-27 05:38:28</td>\n",
       "      <td>2020-08-27 05:38:33</td>\n",
       "      <td>-29.98365</td>\n",
       "      <td>-50.97333</td>\n",
       "      <td>RF</td>\n",
       "      <td>14</td>\n",
       "      <td>Alvorada</td>\n",
       "      <td>Brasil</td>\n",
       "      <td>94834-670</td>\n",
       "      <td>Rio Grande do Sul</td>\n",
       "    </tr>\n",
       "    <tr>\n",
       "      <th>1</th>\n",
       "      <td>0</td>\n",
       "      <td>#0&amp;CN$#P@0RT253#9</td>\n",
       "      <td>1</td>\n",
       "      <td>2020-08-27 05:39:08</td>\n",
       "      <td>2020-08-27 05:39:10</td>\n",
       "      <td>-29.98364</td>\n",
       "      <td>-51.13242</td>\n",
       "      <td>RF</td>\n",
       "      <td>13</td>\n",
       "      <td>Porto Alegre</td>\n",
       "      <td>Brasil</td>\n",
       "      <td>91120-280</td>\n",
       "      <td>Rio Grande do Sul</td>\n",
       "    </tr>\n",
       "    <tr>\n",
       "      <th>2</th>\n",
       "      <td>0</td>\n",
       "      <td>#0&amp;CN$#P@0RT253#9</td>\n",
       "      <td>1</td>\n",
       "      <td>2020-08-27 09:52:32</td>\n",
       "      <td>2020-08-27 09:52:34</td>\n",
       "      <td>-29.99725</td>\n",
       "      <td>-51.13562</td>\n",
       "      <td>RF</td>\n",
       "      <td>12</td>\n",
       "      <td>Porto Alegre</td>\n",
       "      <td>Brasil</td>\n",
       "      <td>91110-440</td>\n",
       "      <td>Rio Grande do Sul</td>\n",
       "    </tr>\n",
       "    <tr>\n",
       "      <th>3</th>\n",
       "      <td>0</td>\n",
       "      <td>#0&amp;CN$#P@0RT253#9</td>\n",
       "      <td>1</td>\n",
       "      <td>2020-08-27 09:52:47</td>\n",
       "      <td>2020-08-27 09:53:43</td>\n",
       "      <td>-29.99820</td>\n",
       "      <td>-51.13608</td>\n",
       "      <td>RF</td>\n",
       "      <td>12</td>\n",
       "      <td>Porto Alegre</td>\n",
       "      <td>Brasil</td>\n",
       "      <td>91110-440</td>\n",
       "      <td>Rio Grande do Sul</td>\n",
       "    </tr>\n",
       "    <tr>\n",
       "      <th>4</th>\n",
       "      <td>0</td>\n",
       "      <td>#0&amp;CN$#P@0RT253#9</td>\n",
       "      <td>1</td>\n",
       "      <td>2020-08-27 09:53:34</td>\n",
       "      <td>2020-08-27 09:55:10</td>\n",
       "      <td>-29.99791</td>\n",
       "      <td>-51.13906</td>\n",
       "      <td>RF</td>\n",
       "      <td>12</td>\n",
       "      <td>Porto Alegre</td>\n",
       "      <td>Brasil</td>\n",
       "      <td>91110-580</td>\n",
       "      <td>Rio Grande do Sul</td>\n",
       "    </tr>\n",
       "  </tbody>\n",
       "</table>\n",
       "</div>"
      ],
      "text/plain": [
       "   Bateria violada?             Chassi  Carro ligado?  Data de ocorrencia  \\\n",
       "0                 0  #0&CN$#P@0RT253#9              0 2020-08-27 05:38:28   \n",
       "1                 0  #0&CN$#P@0RT253#9              1 2020-08-27 05:39:08   \n",
       "2                 0  #0&CN$#P@0RT253#9              1 2020-08-27 09:52:32   \n",
       "3                 0  #0&CN$#P@0RT253#9              1 2020-08-27 09:52:47   \n",
       "4                 0  #0&CN$#P@0RT253#9              1 2020-08-27 09:53:34   \n",
       "\n",
       "  Data de recebimento  Latitude  Longitude Modo  Tensão          city country  \\\n",
       "0 2020-08-27 05:38:33 -29.98365  -50.97333   RF      14      Alvorada  Brasil   \n",
       "1 2020-08-27 05:39:10 -29.98364  -51.13242   RF      13  Porto Alegre  Brasil   \n",
       "2 2020-08-27 09:52:34 -29.99725  -51.13562   RF      12  Porto Alegre  Brasil   \n",
       "3 2020-08-27 09:53:43 -29.99820  -51.13608   RF      12  Porto Alegre  Brasil   \n",
       "4 2020-08-27 09:55:10 -29.99791  -51.13906   RF      12  Porto Alegre  Brasil   \n",
       "\n",
       "    postcode              state  \n",
       "0  94834-670  Rio Grande do Sul  \n",
       "1  91120-280  Rio Grande do Sul  \n",
       "2  91110-440  Rio Grande do Sul  \n",
       "3  91110-440  Rio Grande do Sul  \n",
       "4  91110-580  Rio Grande do Sul  "
      ]
     },
     "execution_count": 16,
     "metadata": {},
     "output_type": "execute_result"
    }
   ],
   "source": [
    "#Look API output\n",
    "df.head()"
   ]
  },
  {
   "cell_type": "code",
   "execution_count": null,
   "metadata": {},
   "outputs": [],
   "source": []
  },
  {
   "cell_type": "code",
   "execution_count": null,
   "metadata": {},
   "outputs": [],
   "source": [
    "df.to_excel(r'C:\\Users\\ramon\\OneDrive\\Área de Trabalho\\Dados-Geolocalizacao3.xlsx', sheet_name='Sheet1', index = False)"
   ]
  }
 ],
 "metadata": {
  "kernelspec": {
   "display_name": "Python 3",
   "language": "python",
   "name": "python3"
  },
  "language_info": {
   "codemirror_mode": {
    "name": "ipython",
    "version": 3
   },
   "file_extension": ".py",
   "mimetype": "text/x-python",
   "name": "python",
   "nbconvert_exporter": "python",
   "pygments_lexer": "ipython3",
   "version": "3.8.5"
  }
 },
 "nbformat": 4,
 "nbformat_minor": 4
}
